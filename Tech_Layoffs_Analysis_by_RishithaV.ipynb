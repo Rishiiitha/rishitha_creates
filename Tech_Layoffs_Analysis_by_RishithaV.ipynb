{
  "cells": [
    {
      "cell_type": "markdown",
      "metadata": {
        "id": "4Z18xI9HNKVz"
      },
      "source": [
        "####Tech Layoffs Analysis\n"
      ]
    },
    {
      "cell_type": "code",
      "execution_count": 7,
      "metadata": {
        "id": "Yh1NQEIxNCxQ"
      },
      "outputs": [],
      "source": [
        "import pandas as pd\n",
        "import numpy as np\n",
        "import matplotlib.pyplot as plt\n",
        "import seaborn as sns"
      ]
    },
    {
      "cell_type": "markdown",
      "metadata": {
        "id": "plr59LkJODh5"
      },
      "source": [
        "# Part 1 – Basic Data Understanding (Pandas)\n",
        "\n",
        "Load the CSV file into a Pandas DataFrame.\n",
        "\n",
        "\n",
        "Display the first 10 rows.\n",
        "\n",
        "\n",
        "Show shape, column names, and data types.\n",
        "\n",
        "\n",
        "Check for missing values and duplicates.\n",
        "\n",
        "\n",
        "Use .describe() to get summary statistics.\n"
      ]
    },
    {
      "cell_type": "code",
      "execution_count": 8,
      "metadata": {
        "colab": {
          "base_uri": "https://localhost:8080/",
          "height": 363
        },
        "id": "dF6Jy0ODOCuU",
        "outputId": "fa59d13a-6da4-42ec-c906-84af16a0ac3e"
      },
      "outputs": [
        {
          "data": {
            "text/html": [
              "<div>\n",
              "<style scoped>\n",
              "    .dataframe tbody tr th:only-of-type {\n",
              "        vertical-align: middle;\n",
              "    }\n",
              "\n",
              "    .dataframe tbody tr th {\n",
              "        vertical-align: top;\n",
              "    }\n",
              "\n",
              "    .dataframe thead th {\n",
              "        text-align: right;\n",
              "    }\n",
              "</style>\n",
              "<table border=\"1\" class=\"dataframe\">\n",
              "  <thead>\n",
              "    <tr style=\"text-align: right;\">\n",
              "      <th></th>\n",
              "      <th>company</th>\n",
              "      <th>company_size</th>\n",
              "      <th>employees_fired</th>\n",
              "    </tr>\n",
              "  </thead>\n",
              "  <tbody>\n",
              "    <tr>\n",
              "      <th>0</th>\n",
              "      <td>Apple</td>\n",
              "      <td>147000</td>\n",
              "      <td>0</td>\n",
              "    </tr>\n",
              "    <tr>\n",
              "      <th>1</th>\n",
              "      <td>Microsoft</td>\n",
              "      <td>181000</td>\n",
              "      <td>6000</td>\n",
              "    </tr>\n",
              "    <tr>\n",
              "      <th>2</th>\n",
              "      <td>Google</td>\n",
              "      <td>139500</td>\n",
              "      <td>15000</td>\n",
              "    </tr>\n",
              "    <tr>\n",
              "      <th>3</th>\n",
              "      <td>Amazon</td>\n",
              "      <td>1300000</td>\n",
              "      <td>12000</td>\n",
              "    </tr>\n",
              "    <tr>\n",
              "      <th>4</th>\n",
              "      <td>Facebook</td>\n",
              "      <td>60750</td>\n",
              "      <td>11000</td>\n",
              "    </tr>\n",
              "    <tr>\n",
              "      <th>5</th>\n",
              "      <td>Tesla</td>\n",
              "      <td>70000</td>\n",
              "      <td>1000</td>\n",
              "    </tr>\n",
              "    <tr>\n",
              "      <th>6</th>\n",
              "      <td>Palantir</td>\n",
              "      <td>1008569</td>\n",
              "      <td>72661</td>\n",
              "    </tr>\n",
              "    <tr>\n",
              "      <th>7</th>\n",
              "      <td>PhonePe</td>\n",
              "      <td>850789</td>\n",
              "      <td>89997</td>\n",
              "    </tr>\n",
              "    <tr>\n",
              "      <th>8</th>\n",
              "      <td>Ola</td>\n",
              "      <td>135654</td>\n",
              "      <td>3909</td>\n",
              "    </tr>\n",
              "    <tr>\n",
              "      <th>9</th>\n",
              "      <td>Oracle</td>\n",
              "      <td>1116585</td>\n",
              "      <td>50166</td>\n",
              "    </tr>\n",
              "  </tbody>\n",
              "</table>\n",
              "</div>"
            ],
            "text/plain": [
              "     company  company_size  employees_fired\n",
              "0      Apple        147000                0\n",
              "1  Microsoft        181000             6000\n",
              "2     Google        139500            15000\n",
              "3     Amazon       1300000            12000\n",
              "4   Facebook         60750            11000\n",
              "5      Tesla         70000             1000\n",
              "6   Palantir       1008569            72661\n",
              "7    PhonePe        850789            89997\n",
              "8        Ola        135654             3909\n",
              "9     Oracle       1116585            50166"
            ]
          },
          "metadata": {},
          "output_type": "display_data"
        }
      ],
      "source": [
        "df=pd.read_csv('tech_layoffs.csv')\n",
        "display(df.head(10))"
      ]
    },
    {
      "cell_type": "code",
      "execution_count": 9,
      "metadata": {
        "colab": {
          "base_uri": "https://localhost:8080/"
        },
        "id": "UHz13AdvO_mS",
        "outputId": "8c3fa91d-71d0-49ea-ddd4-8b95813c53f2"
      },
      "outputs": [
        {
          "name": "stdout",
          "output_type": "stream",
          "text": [
            "shape:  (100, 3)\n",
            "column names:  Index(['company', 'company_size', 'employees_fired'], dtype='object')\n",
            "data types: \n",
            " company            object\n",
            "company_size        int64\n",
            "employees_fired     int64\n",
            "dtype: object\n"
          ]
        }
      ],
      "source": [
        "print(\"shape: \",df.shape)\n",
        "print(\"column names: \",df.columns)\n",
        "print(\"data types: \\n\",df.dtypes)"
      ]
    },
    {
      "cell_type": "code",
      "execution_count": 10,
      "metadata": {
        "colab": {
          "base_uri": "https://localhost:8080/",
          "height": 178
        },
        "id": "C_Zmft6BPPGL",
        "outputId": "b644912b-7f51-459c-8b97-534d40f75c21"
      },
      "outputs": [
        {
          "data": {
            "text/plain": [
              "company            0\n",
              "company_size       0\n",
              "employees_fired    0\n",
              "dtype: int64"
            ]
          },
          "execution_count": 10,
          "metadata": {},
          "output_type": "execute_result"
        }
      ],
      "source": [
        "df.isnull().sum()"
      ]
    },
    {
      "cell_type": "code",
      "execution_count": 11,
      "metadata": {
        "colab": {
          "base_uri": "https://localhost:8080/"
        },
        "id": "def173e9",
        "outputId": "1ce6692e-bbb0-4b50-b964-675ad6bbb946"
      },
      "outputs": [
        {
          "name": "stdout",
          "output_type": "stream",
          "text": [
            "0\n"
          ]
        }
      ],
      "source": [
        "df.drop_duplicates(subset=['company'], keep='first', inplace=True)\n",
        "print(df.company.duplicated().sum())"
      ]
    },
    {
      "cell_type": "code",
      "execution_count": 12,
      "metadata": {
        "colab": {
          "base_uri": "https://localhost:8080/",
          "height": 335
        },
        "id": "XNCXRY6zP1M6",
        "outputId": "dfc28283-2206-4cdb-c96a-5ec2ede69a66"
      },
      "outputs": [
        {
          "name": "stdout",
          "output_type": "stream",
          "text": [
            "\n",
            "Summary statistics:\n"
          ]
        },
        {
          "data": {
            "text/html": [
              "<div>\n",
              "<style scoped>\n",
              "    .dataframe tbody tr th:only-of-type {\n",
              "        vertical-align: middle;\n",
              "    }\n",
              "\n",
              "    .dataframe tbody tr th {\n",
              "        vertical-align: top;\n",
              "    }\n",
              "\n",
              "    .dataframe thead th {\n",
              "        text-align: right;\n",
              "    }\n",
              "</style>\n",
              "<table border=\"1\" class=\"dataframe\">\n",
              "  <thead>\n",
              "    <tr style=\"text-align: right;\">\n",
              "      <th></th>\n",
              "      <th>company_size</th>\n",
              "      <th>employees_fired</th>\n",
              "    </tr>\n",
              "  </thead>\n",
              "  <tbody>\n",
              "    <tr>\n",
              "      <th>count</th>\n",
              "      <td>4.900000e+01</td>\n",
              "      <td>49.000000</td>\n",
              "    </tr>\n",
              "    <tr>\n",
              "      <th>mean</th>\n",
              "      <td>7.271658e+05</td>\n",
              "      <td>61471.857143</td>\n",
              "    </tr>\n",
              "    <tr>\n",
              "      <th>std</th>\n",
              "      <td>4.773233e+05</td>\n",
              "      <td>52253.894597</td>\n",
              "    </tr>\n",
              "    <tr>\n",
              "      <th>min</th>\n",
              "      <td>7.137000e+03</td>\n",
              "      <td>0.000000</td>\n",
              "    </tr>\n",
              "    <tr>\n",
              "      <th>25%</th>\n",
              "      <td>2.666560e+05</td>\n",
              "      <td>15000.000000</td>\n",
              "    </tr>\n",
              "    <tr>\n",
              "      <th>50%</th>\n",
              "      <td>7.980650e+05</td>\n",
              "      <td>44492.000000</td>\n",
              "    </tr>\n",
              "    <tr>\n",
              "      <th>75%</th>\n",
              "      <td>1.176096e+06</td>\n",
              "      <td>107657.000000</td>\n",
              "    </tr>\n",
              "    <tr>\n",
              "      <th>max</th>\n",
              "      <td>1.432228e+06</td>\n",
              "      <td>206083.000000</td>\n",
              "    </tr>\n",
              "  </tbody>\n",
              "</table>\n",
              "</div>"
            ],
            "text/plain": [
              "       company_size  employees_fired\n",
              "count  4.900000e+01        49.000000\n",
              "mean   7.271658e+05     61471.857143\n",
              "std    4.773233e+05     52253.894597\n",
              "min    7.137000e+03         0.000000\n",
              "25%    2.666560e+05     15000.000000\n",
              "50%    7.980650e+05     44492.000000\n",
              "75%    1.176096e+06    107657.000000\n",
              "max    1.432228e+06    206083.000000"
            ]
          },
          "metadata": {},
          "output_type": "display_data"
        }
      ],
      "source": [
        "print(\"\\nSummary statistics:\")\n",
        "display(df.describe())"
      ]
    },
    {
      "cell_type": "markdown",
      "metadata": {
        "id": "5f4PXah9P5rS"
      },
      "source": [
        "# Part 2 – Data Cleaning\n",
        "Ensure company_size and employees_fired are stored as integers.\n",
        "\n",
        "\n",
        "Remove any extra spaces in company names.\n",
        "\n",
        "\n",
        "Check for any negative values in employees_fired or company_size and correct them if needed.\n",
        "\n",
        "\n",
        "Standardize company names to title case.\n"
      ]
    },
    {
      "cell_type": "code",
      "execution_count": 13,
      "metadata": {
        "colab": {
          "base_uri": "https://localhost:8080/"
        },
        "id": "QcDO6NpyQYwp",
        "outputId": "0e302582-ab6c-49f0-9db6-20d03ae62316"
      },
      "outputs": [
        {
          "name": "stdout",
          "output_type": "stream",
          "text": [
            "data types: \n",
            " company            object\n",
            "company_size        int64\n",
            "employees_fired     int64\n",
            "dtype: object\n",
            "data type of all columnss are integers\n"
          ]
        }
      ],
      "source": [
        "print(\"data types: \\n\",df.dtypes)\n",
        "print(\"data type of all columnss are integers\")"
      ]
    },
    {
      "cell_type": "code",
      "execution_count": 14,
      "metadata": {
        "id": "HpEqI3ndQ0lA"
      },
      "outputs": [],
      "source": [
        "df.company=df.company.str.strip()"
      ]
    },
    {
      "cell_type": "code",
      "execution_count": 15,
      "metadata": {
        "colab": {
          "base_uri": "https://localhost:8080/",
          "height": 206
        },
        "id": "0i3nK2YFRfhL",
        "outputId": "5163a438-b951-48cb-e924-341d4ec24933"
      },
      "outputs": [
        {
          "data": {
            "text/html": [
              "<div>\n",
              "<style scoped>\n",
              "    .dataframe tbody tr th:only-of-type {\n",
              "        vertical-align: middle;\n",
              "    }\n",
              "\n",
              "    .dataframe tbody tr th {\n",
              "        vertical-align: top;\n",
              "    }\n",
              "\n",
              "    .dataframe thead th {\n",
              "        text-align: right;\n",
              "    }\n",
              "</style>\n",
              "<table border=\"1\" class=\"dataframe\">\n",
              "  <thead>\n",
              "    <tr style=\"text-align: right;\">\n",
              "      <th></th>\n",
              "      <th>company</th>\n",
              "      <th>company_size</th>\n",
              "      <th>employees_fired</th>\n",
              "    </tr>\n",
              "  </thead>\n",
              "  <tbody>\n",
              "    <tr>\n",
              "      <th>0</th>\n",
              "      <td>Apple</td>\n",
              "      <td>147000</td>\n",
              "      <td>0</td>\n",
              "    </tr>\n",
              "    <tr>\n",
              "      <th>1</th>\n",
              "      <td>Microsoft</td>\n",
              "      <td>181000</td>\n",
              "      <td>6000</td>\n",
              "    </tr>\n",
              "    <tr>\n",
              "      <th>2</th>\n",
              "      <td>Google</td>\n",
              "      <td>139500</td>\n",
              "      <td>15000</td>\n",
              "    </tr>\n",
              "    <tr>\n",
              "      <th>3</th>\n",
              "      <td>Amazon</td>\n",
              "      <td>1300000</td>\n",
              "      <td>12000</td>\n",
              "    </tr>\n",
              "    <tr>\n",
              "      <th>4</th>\n",
              "      <td>Facebook</td>\n",
              "      <td>60750</td>\n",
              "      <td>11000</td>\n",
              "    </tr>\n",
              "  </tbody>\n",
              "</table>\n",
              "</div>"
            ],
            "text/plain": [
              "     company  company_size  employees_fired\n",
              "0      Apple        147000                0\n",
              "1  Microsoft        181000             6000\n",
              "2     Google        139500            15000\n",
              "3     Amazon       1300000            12000\n",
              "4   Facebook         60750            11000"
            ]
          },
          "execution_count": 15,
          "metadata": {},
          "output_type": "execute_result"
        }
      ],
      "source": [
        "df.employees_fired=df.employees_fired.abs()\n",
        "df.company_size=df.company_size.abs()\n",
        "df.company=df.company.str.title()\n",
        "df.head()"
      ]
    },
    {
      "cell_type": "markdown",
      "metadata": {
        "id": "nx3PL0VAQEL5"
      },
      "source": [
        "# Part 3 – Exploratory Data Analysis (EDA)\n",
        "\n",
        "Calculate the total number of employees across all companies.\n",
        "\n",
        "\n",
        "Calculate the total number of employees laid off across all companies.\n",
        "\n",
        "\n",
        "Find the company with the highest number of layoffs.\n",
        "\n",
        "\n",
        "Find the company with the highest layoff percentage.\n",
        "\n",
        "\n",
        "Create a bar chart of layoffs per company.\n",
        "\n",
        "\n"
      ]
    },
    {
      "cell_type": "code",
      "execution_count": 16,
      "metadata": {
        "colab": {
          "base_uri": "https://localhost:8080/"
        },
        "id": "qqBeaJNZSYOj",
        "outputId": "f249a9f5-3277-44f1-a7b6-16740c671cb1"
      },
      "outputs": [
        {
          "name": "stdout",
          "output_type": "stream",
          "text": [
            "total number of employees across all companies:  35631126\n"
          ]
        }
      ],
      "source": [
        "te=df.company_size.sum()\n",
        "print(\"total number of employees across all companies: \",te)"
      ]
    },
    {
      "cell_type": "code",
      "execution_count": 17,
      "metadata": {
        "colab": {
          "base_uri": "https://localhost:8080/"
        },
        "id": "XfhdPQsVSHpZ",
        "outputId": "e5908ccf-14a9-431e-e287-40b34e077ba7"
      },
      "outputs": [
        {
          "name": "stdout",
          "output_type": "stream",
          "text": [
            "total number of employees laid off across all companies:  3012121\n"
          ]
        }
      ],
      "source": [
        "tf=df.employees_fired.sum()\n",
        "print(\"total number of employees laid off across all companies: \",tf)"
      ]
    },
    {
      "cell_type": "code",
      "execution_count": 18,
      "metadata": {
        "colab": {
          "base_uri": "https://localhost:8080/"
        },
        "id": "h1l9phFeSlDL",
        "outputId": "a1a05f5f-5734-4736-eafe-3a1d6dc1377f"
      },
      "outputs": [
        {
          "name": "stdout",
          "output_type": "stream",
          "text": [
            "company with the highest number of layoffs:  63    Makemytrip\n",
            "Name: company, dtype: object\n"
          ]
        }
      ],
      "source": [
        "maxi=np.where(df.employees_fired==df.employees_fired.max())\n",
        "maxi=df.iloc[maxi[0]]['company']\n",
        "print(\"company with the highest number of layoffs: \",maxi)"
      ]
    },
    {
      "cell_type": "code",
      "execution_count": 19,
      "metadata": {
        "colab": {
          "base_uri": "https://localhost:8080/",
          "height": 206
        },
        "id": "5WgJp4enUYFk",
        "outputId": "54579782-a113-4f1b-eb4f-1aef6367c9dc"
      },
      "outputs": [
        {
          "data": {
            "text/html": [
              "<div>\n",
              "<style scoped>\n",
              "    .dataframe tbody tr th:only-of-type {\n",
              "        vertical-align: middle;\n",
              "    }\n",
              "\n",
              "    .dataframe tbody tr th {\n",
              "        vertical-align: top;\n",
              "    }\n",
              "\n",
              "    .dataframe thead th {\n",
              "        text-align: right;\n",
              "    }\n",
              "</style>\n",
              "<table border=\"1\" class=\"dataframe\">\n",
              "  <thead>\n",
              "    <tr style=\"text-align: right;\">\n",
              "      <th></th>\n",
              "      <th>company</th>\n",
              "      <th>company_size</th>\n",
              "      <th>employees_fired</th>\n",
              "      <th>layoff_percentage</th>\n",
              "    </tr>\n",
              "  </thead>\n",
              "  <tbody>\n",
              "    <tr>\n",
              "      <th>0</th>\n",
              "      <td>Apple</td>\n",
              "      <td>147000</td>\n",
              "      <td>0</td>\n",
              "      <td>0.00</td>\n",
              "    </tr>\n",
              "    <tr>\n",
              "      <th>1</th>\n",
              "      <td>Microsoft</td>\n",
              "      <td>181000</td>\n",
              "      <td>6000</td>\n",
              "      <td>3.31</td>\n",
              "    </tr>\n",
              "    <tr>\n",
              "      <th>2</th>\n",
              "      <td>Google</td>\n",
              "      <td>139500</td>\n",
              "      <td>15000</td>\n",
              "      <td>10.75</td>\n",
              "    </tr>\n",
              "    <tr>\n",
              "      <th>3</th>\n",
              "      <td>Amazon</td>\n",
              "      <td>1300000</td>\n",
              "      <td>12000</td>\n",
              "      <td>0.92</td>\n",
              "    </tr>\n",
              "    <tr>\n",
              "      <th>4</th>\n",
              "      <td>Facebook</td>\n",
              "      <td>60750</td>\n",
              "      <td>11000</td>\n",
              "      <td>18.11</td>\n",
              "    </tr>\n",
              "  </tbody>\n",
              "</table>\n",
              "</div>"
            ],
            "text/plain": [
              "     company  company_size  employees_fired  layoff_percentage\n",
              "0      Apple        147000                0               0.00\n",
              "1  Microsoft        181000             6000               3.31\n",
              "2     Google        139500            15000              10.75\n",
              "3     Amazon       1300000            12000               0.92\n",
              "4   Facebook         60750            11000              18.11"
            ]
          },
          "execution_count": 19,
          "metadata": {},
          "output_type": "execute_result"
        }
      ],
      "source": [
        "df['layoff_percentage'] = (df['employees_fired'] / df['company_size']) * 100\n",
        "df.layoff_percentage= df['layoff_percentage'].round(2)\n",
        "df.head()"
      ]
    },
    {
      "cell_type": "code",
      "execution_count": 20,
      "metadata": {
        "colab": {
          "base_uri": "https://localhost:8080/"
        },
        "id": "j1OjiZmVUOAJ",
        "outputId": "a57b52d7-b052-4843-cc80-cc8fbe7922ec"
      },
      "outputs": [
        {
          "name": "stdout",
          "output_type": "stream",
          "text": [
            "company with the highest layoff percentage:  4    Facebook\n",
            "Name: company, dtype: object\n"
          ]
        }
      ],
      "source": [
        "mper=np.where(df.layoff_percentage==df.layoff_percentage.max())\n",
        "mper=df.iloc[mper[0]]['company']\n",
        "print(\"company with the highest layoff percentage: \",mper)"
      ]
    },
    {
      "cell_type": "code",
      "execution_count": 21,
      "metadata": {
        "colab": {
          "base_uri": "https://localhost:8080/",
          "height": 544
        },
        "id": "cshYhktzUvHK",
        "outputId": "41f32828-8360-41e4-e2bc-f025eff40520"
      },
      "outputs": [
        {
          "data": {
            "image/png": "[encoded data removed]",
            "text/plain": [
              "<Figure size 1000x400 with 1 Axes>"
            ]
          },
          "metadata": {},
          "output_type": "display_data"
        }
      ],
      "source": [
        "plt.style.use('_mpl-gallery-nogrid')\n",
        "figure=plt.figure(figsize=(10,4))\n",
        "plt.bar(df.company,df.company_size)\n",
        "plt.bar(df.company,df.employees_fired,color='red')\n",
        "plt.ylabel('Employees_fired')\n",
        "plt.xticks(rotation=90)\n",
        "plt.title('Layoffs per company')\n",
        "plt.show()"
      ]
    },
    {
      "cell_type": "markdown",
      "metadata": {
        "id": "p1rq33D6QHjK"
      },
      "source": [
        "# Part 4 – Statistics\n",
        "\n",
        "Calculate mean, median, variance, and standard deviation of employees_fired.\n",
        "\n",
        "\n",
        "Find the probability that a company laid off more than 5% of its employees.\n",
        "\n",
        "\n",
        "Find the percentage of companies with layoffs greater than 10,000 employees.\n",
        "\n",
        "\n"
      ]
    },
    {
      "cell_type": "code",
      "execution_count": 22,
      "metadata": {
        "colab": {
          "base_uri": "https://localhost:8080/"
        },
        "id": "EU59Buo4XJZy",
        "outputId": "bafd138b-e32d-4cb5-dfa5-6b255d82bacb"
      },
      "outputs": [
        {
          "name": "stdout",
          "output_type": "stream",
          "text": [
            "mean:  61471.857142857145\n"
          ]
        }
      ],
      "source": [
        "mean=df.employees_fired.mean()\n",
        "print(\"mean: \",mean)"
      ]
    },
    {
      "cell_type": "code",
      "execution_count": 23,
      "metadata": {
        "colab": {
          "base_uri": "https://localhost:8080/"
        },
        "id": "D8RJG6LrXZA4",
        "outputId": "17249771-e4c8-4c74-c857-90c7147909de"
      },
      "outputs": [
        {
          "name": "stdout",
          "output_type": "stream",
          "text": [
            "median:  44492.0\n"
          ]
        }
      ],
      "source": [
        "median=df.employees_fired.median()\n",
        "print(\"median: \",median)"
      ]
    },
    {
      "cell_type": "code",
      "execution_count": 24,
      "metadata": {
        "colab": {
          "base_uri": "https://localhost:8080/"
        },
        "id": "Dcxq02dXXZfJ",
        "outputId": "5770d725-3330-462a-bc3c-d3a508ca0d95"
      },
      "outputs": [
        {
          "name": "stdout",
          "output_type": "stream",
          "text": [
            "variance:  2730469500.541666\n"
          ]
        }
      ],
      "source": [
        "variance=df.employees_fired.var()\n",
        "print(\"variance: \",variance)"
      ]
    },
    {
      "cell_type": "code",
      "execution_count": 25,
      "metadata": {
        "colab": {
          "base_uri": "https://localhost:8080/"
        },
        "id": "ZTyGT4hwXdBx",
        "outputId": "ac103a10-e6ed-4e73-d4be-31e49bd27873"
      },
      "outputs": [
        {
          "name": "stdout",
          "output_type": "stream",
          "text": [
            "standard deviation:  52253.89459687829\n"
          ]
        }
      ],
      "source": [
        "std=df.employees_fired.std()\n",
        "print(\"standard deviation: \",std)"
      ]
    },
    {
      "cell_type": "code",
      "execution_count": 26,
      "metadata": {
        "colab": {
          "base_uri": "https://localhost:8080/"
        },
        "id": "NRcR3ArIYHZQ",
        "outputId": "84eada5a-00dd-4e1d-d632-77034885b771"
      },
      "outputs": [
        {
          "name": "stdout",
          "output_type": "stream",
          "text": [
            "more than 5% of its employees:  0.7551020408163265\n"
          ]
        }
      ],
      "source": [
        "prob=df.employees_fired.where(df.employees_fired>df.company_size*0.05).count()/df.employees_fired.count()\n",
        "print(\"more than 5% of its employees: \",prob)"
      ]
    },
    {
      "cell_type": "code",
      "execution_count": 27,
      "metadata": {
        "colab": {
          "base_uri": "https://localhost:8080/"
        },
        "id": "IU1iOARhZO5R",
        "outputId": "dfd94735-038d-4a0a-f455-5d68137ef295"
      },
      "outputs": [
        {
          "name": "stdout",
          "output_type": "stream",
          "text": [
            "percent of company layoffs greater than 10,000 employees:  81.63265306122449\n"
          ]
        }
      ],
      "source": [
        "percent=df.company.where(df.employees_fired>10000).count()*100/df.company.count()\n",
        "print(\"percent of company layoffs greater than 10,000 employees: \",percent)"
      ]
    },
    {
      "cell_type": "markdown",
      "metadata": {
        "id": "H7Uy1AwqQKbx"
      },
      "source": [
        "# Part 5 – Linear Algebra & NumPy\n",
        "\n",
        "Convert company_size and employees_fired into NumPy arrays.\n",
        "\n",
        "\n",
        "Perform vector subtraction (company_size - employees_fired).\n",
        "\n",
        "\n",
        "Compute the dot product of company_size and employees_fired.\n",
        "\n",
        "\n",
        "Perform matrix multiplication:\n",
        "\n",
        "\n",
        "Features = [company_size, employees_fired]\n",
        "\n",
        "\n",
        "Weights = [0.4, 0.6]\n",
        "\n",
        "\n"
      ]
    },
    {
      "cell_type": "code",
      "execution_count": 28,
      "metadata": {
        "id": "4JWwHnhgZ0gP"
      },
      "outputs": [],
      "source": [
        "company_size=np.array(df.company_size)\n",
        "employees_fired=np.array(df.employees_fired)"
      ]
    },
    {
      "cell_type": "code",
      "execution_count": 29,
      "metadata": {
        "colab": {
          "base_uri": "https://localhost:8080/"
        },
        "id": "AEWiLX38aArQ",
        "outputId": "d22a234b-41ff-47ab-8c51-a90beb69297e"
      },
      "outputs": [
        {
          "name": "stdout",
          "output_type": "stream",
          "text": [
            "[ 147000  175000  124500 1288000   49750   69000  935908  760792  131745\n",
            " 1066419 1352793  994003   30491  863306  267871 1353189  417025 1221817\n",
            "  774780 1062706 1164609  692776  399988    6983  241174  438978  143290\n",
            "  488362  884860 1154419  382955  511345 1279231  218193  694008  242547\n",
            "  620902 1217981 1142083  415674  623979   26647  755528 1071940  854125\n",
            " 1292019 1028681  321119 1218514]\n"
          ]
        }
      ],
      "source": [
        "suba=np.subtract(company_size,employees_fired)\n",
        "print(suba)"
      ]
    },
    {
      "cell_type": "code",
      "execution_count": 30,
      "metadata": {
        "colab": {
          "base_uri": "https://localhost:8080/"
        },
        "id": "cDvjGBzsaXBQ",
        "outputId": "5c86fc8d-b503-4482-c5dd-bed84a56bf7b"
      },
      "outputs": [
        {
          "name": "stdout",
          "output_type": "stream",
          "text": [
            "3099929330806\n"
          ]
        }
      ],
      "source": [
        "dotp=np.dot(company_size,employees_fired)\n",
        "print(dotp)"
      ]
    },
    {
      "cell_type": "code",
      "execution_count": 31,
      "metadata": {
        "colab": {
          "base_uri": "https://localhost:8080/"
        },
        "id": "CtCQ9vCZagko",
        "outputId": "47ee3753-b9c3-4bd0-b714-6919cbcc1b41"
      },
      "outputs": [
        {
          "name": "stdout",
          "output_type": "stream",
          "text": [
            "[ 58800.   76000.   64800.  527200.   30900.   28600.  447024.2 394313.8\n",
            "  56607.  476733.6 616123.2 511744.2  17219.4 416262.4 137047.4 620314.6\n",
            " 211302.  632359.8 440507.  446916.4 576151.6 384767.4 202479.2   2947.2\n",
            " 121951.6 225945.2  58985.  236041.8 437796.  576155.6 219788.  235099.\n",
            " 604786.4 118849.2 388491.2 110654.8 250420.8 693275.4 603855.2 185655.6\n",
            " 346983.6  12938.8 344748.2 558538.  473243.  649321.6 558887.4 149956.6\n",
            " 520234.6]\n"
          ]
        }
      ],
      "source": [
        "Features = np.array([df['company_size'], df['employees_fired']]).T\n",
        "Weights = np.array([0.4, 0.6])\n",
        "mamul = np.matmul(Features, Weights)\n",
        "print(mamul)"
      ]
    },
    {
      "cell_type": "markdown",
      "metadata": {
        "id": "1h1aUFujQNZy"
      },
      "source": [
        "# Part 6 – Feature Engineering\n",
        "Create a new column Layoff_Percentage = (employees_fired / company_size) * 100 (rounded to 2 decimal places).\n",
        "\n",
        "\n",
        "Create a High_Layoff column (1 if Layoff_Percentage > 5, else 0).\n",
        "\n",
        "\n",
        "Rank companies into quartiles based on Layoff_Percentage.\n",
        "\n",
        "\n"
      ]
    },
    {
      "cell_type": "code",
      "execution_count": 32,
      "metadata": {
        "id": "bfNQLd7GjYSr"
      },
      "outputs": [],
      "source": [
        "layoff_percentage = np.array(df.layoff_percentage)\n"
      ]
    },
    {
      "cell_type": "code",
      "execution_count": 33,
      "metadata": {
        "colab": {
          "base_uri": "https://localhost:8080/",
          "height": 206
        },
        "id": "ypuNE_s2ewhK",
        "outputId": "8dde8889-0939-40da-9e7a-abedc3e80b80"
      },
      "outputs": [
        {
          "data": {
            "text/html": [
              "<div>\n",
              "<style scoped>\n",
              "    .dataframe tbody tr th:only-of-type {\n",
              "        vertical-align: middle;\n",
              "    }\n",
              "\n",
              "    .dataframe tbody tr th {\n",
              "        vertical-align: top;\n",
              "    }\n",
              "\n",
              "    .dataframe thead th {\n",
              "        text-align: right;\n",
              "    }\n",
              "</style>\n",
              "<table border=\"1\" class=\"dataframe\">\n",
              "  <thead>\n",
              "    <tr style=\"text-align: right;\">\n",
              "      <th></th>\n",
              "      <th>company</th>\n",
              "      <th>company_size</th>\n",
              "      <th>employees_fired</th>\n",
              "      <th>layoff_percentage</th>\n",
              "      <th>High_Layoff</th>\n",
              "    </tr>\n",
              "  </thead>\n",
              "  <tbody>\n",
              "    <tr>\n",
              "      <th>0</th>\n",
              "      <td>Apple</td>\n",
              "      <td>147000</td>\n",
              "      <td>0</td>\n",
              "      <td>0.00</td>\n",
              "      <td>0</td>\n",
              "    </tr>\n",
              "    <tr>\n",
              "      <th>1</th>\n",
              "      <td>Microsoft</td>\n",
              "      <td>181000</td>\n",
              "      <td>6000</td>\n",
              "      <td>3.31</td>\n",
              "      <td>0</td>\n",
              "    </tr>\n",
              "    <tr>\n",
              "      <th>2</th>\n",
              "      <td>Google</td>\n",
              "      <td>139500</td>\n",
              "      <td>15000</td>\n",
              "      <td>10.75</td>\n",
              "      <td>1</td>\n",
              "    </tr>\n",
              "    <tr>\n",
              "      <th>3</th>\n",
              "      <td>Amazon</td>\n",
              "      <td>1300000</td>\n",
              "      <td>12000</td>\n",
              "      <td>0.92</td>\n",
              "      <td>0</td>\n",
              "    </tr>\n",
              "    <tr>\n",
              "      <th>4</th>\n",
              "      <td>Facebook</td>\n",
              "      <td>60750</td>\n",
              "      <td>11000</td>\n",
              "      <td>18.11</td>\n",
              "      <td>1</td>\n",
              "    </tr>\n",
              "  </tbody>\n",
              "</table>\n",
              "</div>"
            ],
            "text/plain": [
              "     company  company_size  employees_fired  layoff_percentage  High_Layoff\n",
              "0      Apple        147000                0               0.00            0\n",
              "1  Microsoft        181000             6000               3.31            0\n",
              "2     Google        139500            15000              10.75            1\n",
              "3     Amazon       1300000            12000               0.92            0\n",
              "4   Facebook         60750            11000              18.11            1"
            ]
          },
          "execution_count": 33,
          "metadata": {},
          "output_type": "execute_result"
        }
      ],
      "source": [
        "df['High_Layoff']=np.where(layoff_percentage>5,1,0)\n",
        "df.High_Layoff=df['High_Layoff'].astype(int)\n",
        "df.head()"
      ]
    },
    {
      "cell_type": "code",
      "execution_count": 34,
      "metadata": {
        "colab": {
          "base_uri": "https://localhost:8080/",
          "height": 206
        },
        "id": "1uj5IztTkf0s",
        "outputId": "87c8cce4-1c96-4b03-92b2-ee5ba7a0d896"
      },
      "outputs": [
        {
          "data": {
            "text/html": [
              "<div>\n",
              "<style scoped>\n",
              "    .dataframe tbody tr th:only-of-type {\n",
              "        vertical-align: middle;\n",
              "    }\n",
              "\n",
              "    .dataframe tbody tr th {\n",
              "        vertical-align: top;\n",
              "    }\n",
              "\n",
              "    .dataframe thead th {\n",
              "        text-align: right;\n",
              "    }\n",
              "</style>\n",
              "<table border=\"1\" class=\"dataframe\">\n",
              "  <thead>\n",
              "    <tr style=\"text-align: right;\">\n",
              "      <th></th>\n",
              "      <th>company</th>\n",
              "      <th>company_size</th>\n",
              "      <th>employees_fired</th>\n",
              "      <th>layoff_percentage</th>\n",
              "      <th>High_Layoff</th>\n",
              "      <th>Layoff_Quartile</th>\n",
              "    </tr>\n",
              "  </thead>\n",
              "  <tbody>\n",
              "    <tr>\n",
              "      <th>81</th>\n",
              "      <td>Bytedance</td>\n",
              "      <td>985718</td>\n",
              "      <td>131593</td>\n",
              "      <td>13.35</td>\n",
              "      <td>1</td>\n",
              "      <td>3</td>\n",
              "    </tr>\n",
              "    <tr>\n",
              "      <th>85</th>\n",
              "      <td>Razorpay</td>\n",
              "      <td>1424533</td>\n",
              "      <td>132514</td>\n",
              "      <td>9.30</td>\n",
              "      <td>1</td>\n",
              "      <td>2</td>\n",
              "    </tr>\n",
              "    <tr>\n",
              "      <th>87</th>\n",
              "      <td>Uber</td>\n",
              "      <td>1176096</td>\n",
              "      <td>147415</td>\n",
              "      <td>12.53</td>\n",
              "      <td>1</td>\n",
              "      <td>3</td>\n",
              "    </tr>\n",
              "    <tr>\n",
              "      <th>90</th>\n",
              "      <td>Slack</td>\n",
              "      <td>342628</td>\n",
              "      <td>21509</td>\n",
              "      <td>6.28</td>\n",
              "      <td>1</td>\n",
              "      <td>1</td>\n",
              "    </tr>\n",
              "    <tr>\n",
              "      <th>93</th>\n",
              "      <td>Ibm</td>\n",
              "      <td>1251343</td>\n",
              "      <td>32829</td>\n",
              "      <td>2.62</td>\n",
              "      <td>0</td>\n",
              "      <td>0</td>\n",
              "    </tr>\n",
              "  </tbody>\n",
              "</table>\n",
              "</div>"
            ],
            "text/plain": [
              "      company  company_size  employees_fired  layoff_percentage  High_Layoff  \\\n",
              "81  Bytedance        985718           131593              13.35            1   \n",
              "85   Razorpay       1424533           132514               9.30            1   \n",
              "87       Uber       1176096           147415              12.53            1   \n",
              "90      Slack        342628            21509               6.28            1   \n",
              "93        Ibm       1251343            32829               2.62            0   \n",
              "\n",
              "    Layoff_Quartile  \n",
              "81                3  \n",
              "85                2  \n",
              "87                3  \n",
              "90                1  \n",
              "93                0  "
            ]
          },
          "execution_count": 34,
          "metadata": {},
          "output_type": "execute_result"
        }
      ],
      "source": [
        "df['Layoff_Quartile'] = pd.qcut(df['layoff_percentage'], q=4, labels=False)\n",
        "df.tail()"
      ]
    },
    {
      "cell_type": "markdown",
      "metadata": {
        "id": "bkgkXt8nQQeZ"
      },
      "source": [
        "# Part 7 – SQL Simulation in Pandas\n",
        "\n",
        "Select all companies with Layoff_Percentage > 5 and order them by Layoff_Percentage descending.\n",
        "\n",
        "\n",
        "Get the top 3 companies with the highest layoff counts.\n",
        "\n",
        "\n",
        "Sort companies alphabetically and show company and Layoff_Percentage."
      ]
    },
    {
      "cell_type": "code",
      "execution_count": 35,
      "metadata": {
        "id": "DdCVPCeHoZDB"
      },
      "outputs": [],
      "source": [
        "h=df.groupby('High_Layoff').get_group(1).sort_values(by='layoff_percentage',ascending=False).reset_index(drop=True)"
      ]
    },
    {
      "cell_type": "code",
      "execution_count": 36,
      "metadata": {
        "colab": {
          "base_uri": "https://localhost:8080/",
          "height": 143
        },
        "id": "yXiujaDipIe5",
        "outputId": "7f8edd73-9f23-4634-e616-31f0f25af6ce"
      },
      "outputs": [
        {
          "data": {
            "text/html": [
              "<div>\n",
              "<style scoped>\n",
              "    .dataframe tbody tr th:only-of-type {\n",
              "        vertical-align: middle;\n",
              "    }\n",
              "\n",
              "    .dataframe tbody tr th {\n",
              "        vertical-align: top;\n",
              "    }\n",
              "\n",
              "    .dataframe thead th {\n",
              "        text-align: right;\n",
              "    }\n",
              "</style>\n",
              "<table border=\"1\" class=\"dataframe\">\n",
              "  <thead>\n",
              "    <tr style=\"text-align: right;\">\n",
              "      <th></th>\n",
              "      <th>company</th>\n",
              "      <th>company_size</th>\n",
              "      <th>employees_fired</th>\n",
              "      <th>layoff_percentage</th>\n",
              "      <th>High_Layoff</th>\n",
              "      <th>Layoff_Quartile</th>\n",
              "    </tr>\n",
              "  </thead>\n",
              "  <tbody>\n",
              "    <tr>\n",
              "      <th>0</th>\n",
              "      <td>Facebook</td>\n",
              "      <td>60750</td>\n",
              "      <td>11000</td>\n",
              "      <td>18.11</td>\n",
              "      <td>1</td>\n",
              "      <td>3</td>\n",
              "    </tr>\n",
              "    <tr>\n",
              "      <th>1</th>\n",
              "      <td>Shopify</td>\n",
              "      <td>449561</td>\n",
              "      <td>66606</td>\n",
              "      <td>14.82</td>\n",
              "      <td>1</td>\n",
              "      <td>3</td>\n",
              "    </tr>\n",
              "    <tr>\n",
              "      <th>2</th>\n",
              "      <td>Makemytrip</td>\n",
              "      <td>1424064</td>\n",
              "      <td>206083</td>\n",
              "      <td>14.47</td>\n",
              "      <td>1</td>\n",
              "      <td>3</td>\n",
              "    </tr>\n",
              "  </tbody>\n",
              "</table>\n",
              "</div>"
            ],
            "text/plain": [
              "      company  company_size  employees_fired  layoff_percentage  High_Layoff  \\\n",
              "0    Facebook         60750            11000              18.11            1   \n",
              "1     Shopify        449561            66606              14.82            1   \n",
              "2  Makemytrip       1424064           206083              14.47            1   \n",
              "\n",
              "   Layoff_Quartile  \n",
              "0                3  \n",
              "1                3  \n",
              "2                3  "
            ]
          },
          "metadata": {},
          "output_type": "display_data"
        }
      ],
      "source": [
        "display(h.head(3))"
      ]
    },
    {
      "cell_type": "code",
      "execution_count": 37,
      "metadata": {
        "colab": {
          "base_uri": "https://localhost:8080/",
          "height": 1000
        },
        "id": "sn3kUUTLpT7S",
        "outputId": "9b56d304-f045-44a4-d9a9-a90e9d3d345c"
      },
      "outputs": [
        {
          "data": {
            "text/html": [
              "<div>\n",
              "<style scoped>\n",
              "    .dataframe tbody tr th:only-of-type {\n",
              "        vertical-align: middle;\n",
              "    }\n",
              "\n",
              "    .dataframe tbody tr th {\n",
              "        vertical-align: top;\n",
              "    }\n",
              "\n",
              "    .dataframe thead th {\n",
              "        text-align: right;\n",
              "    }\n",
              "</style>\n",
              "<table border=\"1\" class=\"dataframe\">\n",
              "  <thead>\n",
              "    <tr style=\"text-align: right;\">\n",
              "      <th></th>\n",
              "      <th>company</th>\n",
              "      <th>layoff_percentage</th>\n",
              "    </tr>\n",
              "  </thead>\n",
              "  <tbody>\n",
              "    <tr>\n",
              "      <th>29</th>\n",
              "      <td>Airbnb</td>\n",
              "      <td>10.29</td>\n",
              "    </tr>\n",
              "    <tr>\n",
              "      <th>3</th>\n",
              "      <td>Amazon</td>\n",
              "      <td>0.92</td>\n",
              "    </tr>\n",
              "    <tr>\n",
              "      <th>56</th>\n",
              "      <td>Amd</td>\n",
              "      <td>0.33</td>\n",
              "    </tr>\n",
              "    <tr>\n",
              "      <th>0</th>\n",
              "      <td>Apple</td>\n",
              "      <td>0.00</td>\n",
              "    </tr>\n",
              "    <tr>\n",
              "      <th>11</th>\n",
              "      <td>Atlassian</td>\n",
              "      <td>10.30</td>\n",
              "    </tr>\n",
              "    <tr>\n",
              "      <th>13</th>\n",
              "      <td>Bigbasket</td>\n",
              "      <td>14.14</td>\n",
              "    </tr>\n",
              "    <tr>\n",
              "      <th>35</th>\n",
              "      <td>Bitbucket</td>\n",
              "      <td>9.02</td>\n",
              "    </tr>\n",
              "    <tr>\n",
              "      <th>32</th>\n",
              "      <td>Byju'S</td>\n",
              "      <td>7.69</td>\n",
              "    </tr>\n",
              "    <tr>\n",
              "      <th>81</th>\n",
              "      <td>Bytedance</td>\n",
              "      <td>13.35</td>\n",
              "    </tr>\n",
              "    <tr>\n",
              "      <th>24</th>\n",
              "      <td>Curefit</td>\n",
              "      <td>13.45</td>\n",
              "    </tr>\n",
              "    <tr>\n",
              "      <th>26</th>\n",
              "      <td>Doordash</td>\n",
              "      <td>2.16</td>\n",
              "    </tr>\n",
              "    <tr>\n",
              "      <th>67</th>\n",
              "      <td>Dropbox</td>\n",
              "      <td>11.40</td>\n",
              "    </tr>\n",
              "    <tr>\n",
              "      <th>19</th>\n",
              "      <td>Easemytrip</td>\n",
              "      <td>9.64</td>\n",
              "    </tr>\n",
              "    <tr>\n",
              "      <th>4</th>\n",
              "      <td>Facebook</td>\n",
              "      <td>18.11</td>\n",
              "    </tr>\n",
              "    <tr>\n",
              "      <th>39</th>\n",
              "      <td>Flipkart</td>\n",
              "      <td>6.78</td>\n",
              "    </tr>\n",
              "    <tr>\n",
              "      <th>70</th>\n",
              "      <td>Freshworks</td>\n",
              "      <td>13.50</td>\n",
              "    </tr>\n",
              "    <tr>\n",
              "      <th>10</th>\n",
              "      <td>Github</td>\n",
              "      <td>5.25</td>\n",
              "    </tr>\n",
              "    <tr>\n",
              "      <th>20</th>\n",
              "      <td>Gojek</td>\n",
              "      <td>10.52</td>\n",
              "    </tr>\n",
              "    <tr>\n",
              "      <th>2</th>\n",
              "      <td>Google</td>\n",
              "      <td>10.75</td>\n",
              "    </tr>\n",
              "    <tr>\n",
              "      <th>38</th>\n",
              "      <td>Grab</td>\n",
              "      <td>5.64</td>\n",
              "    </tr>\n",
              "    <tr>\n",
              "      <th>21</th>\n",
              "      <td>Hp</td>\n",
              "      <td>14.42</td>\n",
              "    </tr>\n",
              "    <tr>\n",
              "      <th>93</th>\n",
              "      <td>Ibm</td>\n",
              "      <td>2.62</td>\n",
              "    </tr>\n",
              "    <tr>\n",
              "      <th>28</th>\n",
              "      <td>Intel</td>\n",
              "      <td>9.56</td>\n",
              "    </tr>\n",
              "    <tr>\n",
              "      <th>25</th>\n",
              "      <td>Lenskart</td>\n",
              "      <td>9.60</td>\n",
              "    </tr>\n",
              "    <tr>\n",
              "      <th>72</th>\n",
              "      <td>Lyft</td>\n",
              "      <td>7.88</td>\n",
              "    </tr>\n",
              "    <tr>\n",
              "      <th>63</th>\n",
              "      <td>Makemytrip</td>\n",
              "      <td>14.47</td>\n",
              "    </tr>\n",
              "    <tr>\n",
              "      <th>22</th>\n",
              "      <td>Meesho</td>\n",
              "      <td>2.01</td>\n",
              "    </tr>\n",
              "    <tr>\n",
              "      <th>1</th>\n",
              "      <td>Microsoft</td>\n",
              "      <td>3.31</td>\n",
              "    </tr>\n",
              "    <tr>\n",
              "      <th>73</th>\n",
              "      <td>Netflix</td>\n",
              "      <td>5.33</td>\n",
              "    </tr>\n",
              "    <tr>\n",
              "      <th>69</th>\n",
              "      <td>Nvidia</td>\n",
              "      <td>4.46</td>\n",
              "    </tr>\n",
              "    <tr>\n",
              "      <th>8</th>\n",
              "      <td>Ola</td>\n",
              "      <td>2.88</td>\n",
              "    </tr>\n",
              "    <tr>\n",
              "      <th>9</th>\n",
              "      <td>Oracle</td>\n",
              "      <td>4.49</td>\n",
              "    </tr>\n",
              "    <tr>\n",
              "      <th>6</th>\n",
              "      <td>Palantir</td>\n",
              "      <td>7.20</td>\n",
              "    </tr>\n",
              "    <tr>\n",
              "      <th>7</th>\n",
              "      <td>Phonepe</td>\n",
              "      <td>10.58</td>\n",
              "    </tr>\n",
              "    <tr>\n",
              "      <th>14</th>\n",
              "      <td>Pinterest</td>\n",
              "      <td>7.59</td>\n",
              "    </tr>\n",
              "    <tr>\n",
              "      <th>34</th>\n",
              "      <td>Policybazaar</td>\n",
              "      <td>8.66</td>\n",
              "    </tr>\n",
              "    <tr>\n",
              "      <th>85</th>\n",
              "      <td>Razorpay</td>\n",
              "      <td>9.30</td>\n",
              "    </tr>\n",
              "    <tr>\n",
              "      <th>76</th>\n",
              "      <td>Reddit</td>\n",
              "      <td>10.80</td>\n",
              "    </tr>\n",
              "    <tr>\n",
              "      <th>15</th>\n",
              "      <td>Salesforce</td>\n",
              "      <td>10.04</td>\n",
              "    </tr>\n",
              "    <tr>\n",
              "      <th>36</th>\n",
              "      <td>Shopify</td>\n",
              "      <td>14.82</td>\n",
              "    </tr>\n",
              "    <tr>\n",
              "      <th>90</th>\n",
              "      <td>Slack</td>\n",
              "      <td>6.28</td>\n",
              "    </tr>\n",
              "    <tr>\n",
              "      <th>46</th>\n",
              "      <td>Snapdeal</td>\n",
              "      <td>5.32</td>\n",
              "    </tr>\n",
              "    <tr>\n",
              "      <th>31</th>\n",
              "      <td>Square</td>\n",
              "      <td>1.15</td>\n",
              "    </tr>\n",
              "    <tr>\n",
              "      <th>23</th>\n",
              "      <td>Swiggy</td>\n",
              "      <td>8.65</td>\n",
              "    </tr>\n",
              "    <tr>\n",
              "      <th>5</th>\n",
              "      <td>Tesla</td>\n",
              "      <td>1.43</td>\n",
              "    </tr>\n",
              "    <tr>\n",
              "      <th>41</th>\n",
              "      <td>Tiktok</td>\n",
              "      <td>12.64</td>\n",
              "    </tr>\n",
              "    <tr>\n",
              "      <th>87</th>\n",
              "      <td>Uber</td>\n",
              "      <td>12.53</td>\n",
              "    </tr>\n",
              "    <tr>\n",
              "      <th>17</th>\n",
              "      <td>Unacademy</td>\n",
              "      <td>5.52</td>\n",
              "    </tr>\n",
              "    <tr>\n",
              "      <th>43</th>\n",
              "      <td>Wework</td>\n",
              "      <td>13.78</td>\n",
              "    </tr>\n",
              "  </tbody>\n",
              "</table>\n",
              "</div>"
            ],
            "text/plain": [
              "         company  layoff_percentage\n",
              "29        Airbnb              10.29\n",
              "3         Amazon               0.92\n",
              "56           Amd               0.33\n",
              "0          Apple               0.00\n",
              "11     Atlassian              10.30\n",
              "13     Bigbasket              14.14\n",
              "35     Bitbucket               9.02\n",
              "32        Byju'S               7.69\n",
              "81     Bytedance              13.35\n",
              "24       Curefit              13.45\n",
              "26      Doordash               2.16\n",
              "67       Dropbox              11.40\n",
              "19    Easemytrip               9.64\n",
              "4       Facebook              18.11\n",
              "39      Flipkart               6.78\n",
              "70    Freshworks              13.50\n",
              "10        Github               5.25\n",
              "20         Gojek              10.52\n",
              "2         Google              10.75\n",
              "38          Grab               5.64\n",
              "21            Hp              14.42\n",
              "93           Ibm               2.62\n",
              "28         Intel               9.56\n",
              "25      Lenskart               9.60\n",
              "72          Lyft               7.88\n",
              "63    Makemytrip              14.47\n",
              "22        Meesho               2.01\n",
              "1      Microsoft               3.31\n",
              "73       Netflix               5.33\n",
              "69        Nvidia               4.46\n",
              "8            Ola               2.88\n",
              "9         Oracle               4.49\n",
              "6       Palantir               7.20\n",
              "7        Phonepe              10.58\n",
              "14     Pinterest               7.59\n",
              "34  Policybazaar               8.66\n",
              "85      Razorpay               9.30\n",
              "76        Reddit              10.80\n",
              "15    Salesforce              10.04\n",
              "36       Shopify              14.82\n",
              "90         Slack               6.28\n",
              "46      Snapdeal               5.32\n",
              "31        Square               1.15\n",
              "23        Swiggy               8.65\n",
              "5          Tesla               1.43\n",
              "41        Tiktok              12.64\n",
              "87          Uber              12.53\n",
              "17     Unacademy               5.52\n",
              "43        Wework              13.78"
            ]
          },
          "execution_count": 37,
          "metadata": {},
          "output_type": "execute_result"
        }
      ],
      "source": [
        "df.sort_values(by='company',ascending=True,inplace=True)\n",
        "df['company']=df['company'].str.title()\n",
        "df[['company','layoff_percentage']]"
      ]
    },
    {
      "cell_type": "markdown",
      "metadata": {
        "id": "UN79Gz1xQShT"
      },
      "source": [
        "# Part 8 – Insights\n",
        "\n",
        "Which company had the highest layoffs in percentage terms?\n",
        "\n",
        "\n",
        "Which company had the most employees fired in absolute numbers?\n",
        "\n",
        "\n",
        "What is the average layoff percentage across all companies?\n",
        "\n",
        "\n",
        "Which quartile of Layoff_Percentage has the highest average company_size?\n",
        "\n",
        "\n"
      ]
    },
    {
      "cell_type": "code",
      "execution_count": 38,
      "metadata": {
        "colab": {
          "base_uri": "https://localhost:8080/"
        },
        "id": "fE_x9QPxqXTg",
        "outputId": "7daf90e5-be6b-49ea-f384-de782d06d527"
      },
      "outputs": [
        {
          "name": "stdout",
          "output_type": "stream",
          "text": [
            "company with the highest layoffs in percentage terms:  0    Facebook\n",
            "Name: company, dtype: object\n"
          ]
        }
      ],
      "source": [
        "print(\"company with the highest layoffs in percentage terms: \",h['company'].head(1))"
      ]
    },
    {
      "cell_type": "code",
      "execution_count": 39,
      "metadata": {
        "colab": {
          "base_uri": "https://localhost:8080/"
        },
        "id": "JhHcspSwrtuL",
        "outputId": "887b454e-69c3-4cd1-bb58-5ba235399595"
      },
      "outputs": [
        {
          "name": "stdout",
          "output_type": "stream",
          "text": [
            "company with the most employees fired in absolute numbers:  Makemytrip\n"
          ]
        }
      ],
      "source": [
        "print(\"company with the most employees fired in absolute numbers: \",df.company[df.employees_fired.idxmax()])"
      ]
    },
    {
      "cell_type": "code",
      "execution_count": 40,
      "metadata": {
        "colab": {
          "base_uri": "https://localhost:8080/"
        },
        "id": "uozr8LR4rh65",
        "outputId": "ec6f9281-51cf-4c07-d377-99d045edc700"
      },
      "outputs": [
        {
          "name": "stdout",
          "output_type": "stream",
          "text": [
            "avg layoff percentage across all companies:  8.17469387755102\n"
          ]
        }
      ],
      "source": [
        "print(\"avg layoff percentage across all companies: \",df.layoff_percentage.mean())"
      ]
    },
    {
      "cell_type": "code",
      "execution_count": 41,
      "metadata": {
        "colab": {
          "base_uri": "https://localhost:8080/"
        },
        "id": "IPgZNihNsGI0",
        "outputId": "b7a1367c-9dbc-45cb-9621-9530678a8c32"
      },
      "outputs": [
        {
          "name": "stdout",
          "output_type": "stream",
          "text": [
            "quartile of Layoff_Percentage has the highest average company_size:  0\n"
          ]
        }
      ],
      "source": [
        "print(\"quartile of Layoff_Percentage has the highest average company_size: \",df.Layoff_Quartile.value_counts().idxmax())"
      ]
    },
    {
      "cell_type": "code",
      "execution_count": 42,
      "metadata": {
        "colab": {
          "base_uri": "https://localhost:8080/",
          "height": 363
        },
        "id": "6fJFPktotMiR",
        "outputId": "b5dc37a2-94ae-45fd-c214-cead30136567"
      },
      "outputs": [
        {
          "data": {
            "text/html": [
              "<div>\n",
              "<style scoped>\n",
              "    .dataframe tbody tr th:only-of-type {\n",
              "        vertical-align: middle;\n",
              "    }\n",
              "\n",
              "    .dataframe tbody tr th {\n",
              "        vertical-align: top;\n",
              "    }\n",
              "\n",
              "    .dataframe thead th {\n",
              "        text-align: right;\n",
              "    }\n",
              "</style>\n",
              "<table border=\"1\" class=\"dataframe\">\n",
              "  <thead>\n",
              "    <tr style=\"text-align: right;\">\n",
              "      <th></th>\n",
              "      <th>company</th>\n",
              "      <th>company_size</th>\n",
              "      <th>employees_fired</th>\n",
              "      <th>layoff_percentage</th>\n",
              "      <th>High_Layoff</th>\n",
              "      <th>Layoff_Quartile</th>\n",
              "    </tr>\n",
              "  </thead>\n",
              "  <tbody>\n",
              "    <tr>\n",
              "      <th>29</th>\n",
              "      <td>Airbnb</td>\n",
              "      <td>489332</td>\n",
              "      <td>50354</td>\n",
              "      <td>10.29</td>\n",
              "      <td>1</td>\n",
              "      <td>2</td>\n",
              "    </tr>\n",
              "    <tr>\n",
              "      <th>3</th>\n",
              "      <td>Amazon</td>\n",
              "      <td>1300000</td>\n",
              "      <td>12000</td>\n",
              "      <td>0.92</td>\n",
              "      <td>0</td>\n",
              "      <td>0</td>\n",
              "    </tr>\n",
              "    <tr>\n",
              "      <th>56</th>\n",
              "      <td>Amd</td>\n",
              "      <td>622962</td>\n",
              "      <td>2060</td>\n",
              "      <td>0.33</td>\n",
              "      <td>0</td>\n",
              "      <td>0</td>\n",
              "    </tr>\n",
              "    <tr>\n",
              "      <th>0</th>\n",
              "      <td>Apple</td>\n",
              "      <td>147000</td>\n",
              "      <td>0</td>\n",
              "      <td>0.00</td>\n",
              "      <td>0</td>\n",
              "      <td>0</td>\n",
              "    </tr>\n",
              "    <tr>\n",
              "      <th>11</th>\n",
              "      <td>Atlassian</td>\n",
              "      <td>1108146</td>\n",
              "      <td>114143</td>\n",
              "      <td>10.30</td>\n",
              "      <td>1</td>\n",
              "      <td>2</td>\n",
              "    </tr>\n",
              "    <tr>\n",
              "      <th>13</th>\n",
              "      <td>Bigbasket</td>\n",
              "      <td>35514</td>\n",
              "      <td>5023</td>\n",
              "      <td>14.14</td>\n",
              "      <td>1</td>\n",
              "      <td>3</td>\n",
              "    </tr>\n",
              "    <tr>\n",
              "      <th>35</th>\n",
              "      <td>Bitbucket</td>\n",
              "      <td>1268807</td>\n",
              "      <td>114388</td>\n",
              "      <td>9.02</td>\n",
              "      <td>1</td>\n",
              "      <td>2</td>\n",
              "    </tr>\n",
              "    <tr>\n",
              "      <th>32</th>\n",
              "      <td>Byju'S</td>\n",
              "      <td>529059</td>\n",
              "      <td>40697</td>\n",
              "      <td>7.69</td>\n",
              "      <td>1</td>\n",
              "      <td>1</td>\n",
              "    </tr>\n",
              "    <tr>\n",
              "      <th>81</th>\n",
              "      <td>Bytedance</td>\n",
              "      <td>985718</td>\n",
              "      <td>131593</td>\n",
              "      <td>13.35</td>\n",
              "      <td>1</td>\n",
              "      <td>3</td>\n",
              "    </tr>\n",
              "    <tr>\n",
              "      <th>24</th>\n",
              "      <td>Curefit</td>\n",
              "      <td>800433</td>\n",
              "      <td>107657</td>\n",
              "      <td>13.45</td>\n",
              "      <td>1</td>\n",
              "      <td>3</td>\n",
              "    </tr>\n",
              "  </tbody>\n",
              "</table>\n",
              "</div>"
            ],
            "text/plain": [
              "      company  company_size  employees_fired  layoff_percentage  High_Layoff  \\\n",
              "29     Airbnb        489332            50354              10.29            1   \n",
              "3      Amazon       1300000            12000               0.92            0   \n",
              "56        Amd        622962             2060               0.33            0   \n",
              "0       Apple        147000                0               0.00            0   \n",
              "11  Atlassian       1108146           114143              10.30            1   \n",
              "13  Bigbasket         35514             5023              14.14            1   \n",
              "35  Bitbucket       1268807           114388               9.02            1   \n",
              "32     Byju'S        529059            40697               7.69            1   \n",
              "81  Bytedance        985718           131593              13.35            1   \n",
              "24    Curefit        800433           107657              13.45            1   \n",
              "\n",
              "    Layoff_Quartile  \n",
              "29                2  \n",
              "3                 0  \n",
              "56                0  \n",
              "0                 0  \n",
              "11                2  \n",
              "13                3  \n",
              "35                2  \n",
              "32                1  \n",
              "81                3  \n",
              "24                3  "
            ]
          },
          "execution_count": 42,
          "metadata": {},
          "output_type": "execute_result"
        }
      ],
      "source": [
        "df.head(10)"
      ]
    },
    {
      "cell_type": "markdown",
      "metadata": {
        "id": "s7TnEmHiysGC"
      },
      "source": [
        "##My Insights"
      ]
    },
    {
      "cell_type": "code",
      "execution_count": 43,
      "metadata": {
        "colab": {
          "base_uri": "https://localhost:8080/",
          "height": 489
        },
        "id": "8fe56f4d",
        "outputId": "8c3a3a5a-c8e3-4462-88d1-b3531083df75"
      },
      "outputs": [
        {
          "data": {
            "image/png": "[encoded data removed]",
            "text/plain": [
              "<Figure size 400x400 with 1 Axes>"
            ]
          },
          "metadata": {},
          "output_type": "display_data"
        }
      ],
      "source": [
        "plt.figure(figsize=(4,4))\n",
        "plt.scatter(df['company_size'],df['employees_fired'],s=2)\n",
        "plt.title('Employees Fired vs. Company Size')\n",
        "plt.xlabel('Company Size')\n",
        "plt.ylabel('Employees Fired')\n",
        "plt.grid(True)\n",
        "plt.show()"
      ]
    },
    {
      "cell_type": "code",
      "execution_count": 44,
      "metadata": {
        "colab": {
          "base_uri": "https://localhost:8080/"
        },
        "id": "9Fa_X-dyNEDR",
        "outputId": "f2873e5d-eee6-4780-bef4-736265b1ff59"
      },
      "outputs": [
        {
          "data": {
            "text/plain": [
              "np.float64(0.7597775059470279)"
            ]
          },
          "execution_count": 44,
          "metadata": {},
          "output_type": "execute_result"
        }
      ],
      "source": [
        "df['company_size'].corr(df['employees_fired'])"
      ]
    },
    {
      "cell_type": "code",
      "execution_count": 45,
      "metadata": {
        "colab": {
          "base_uri": "https://localhost:8080/"
        },
        "id": "_Ppqt-sAy1Sz",
        "outputId": "dd60c96d-eb74-4a4c-ae60-e3a7f949c3a1"
      },
      "outputs": [
        {
          "name": "stdout",
          "output_type": "stream",
          "text": [
            "[[1.         0.75977751]\n",
            " [0.75977751 1.        ]]\n"
          ]
        }
      ],
      "source": [
        "print(np.corrcoef(df.company_size,df.employees_fired) )"
      ]
    },
    {
      "cell_type": "code",
      "execution_count": 46,
      "metadata": {
        "colab": {
          "base_uri": "https://localhost:8080/"
        },
        "id": "VTCiBhXlzdub",
        "outputId": "49170be7-0719-4e87-a9aa-4dc27f9eee57"
      },
      "outputs": [
        {
          "name": "stdout",
          "output_type": "stream",
          "text": [
            "[[2.27837536e+11 1.89503717e+10]\n",
            " [1.89503717e+10 2.73046950e+09]]\n"
          ]
        }
      ],
      "source": [
        "print(np.cov(df.company_size,df.employees_fired) )"
      ]
    },
    {
      "cell_type": "markdown",
      "metadata": {
        "id": "aQW7U8En1MOz"
      },
      "source": [
        "covariance and correlation between company_size and layoff_percentage is high showing they are directly related and directly propotional"
      ]
    },
    {
      "cell_type": "code",
      "execution_count": 47,
      "metadata": {
        "colab": {
          "base_uri": "https://localhost:8080/"
        },
        "id": "xbVXO3gwMwTw",
        "outputId": "561f821c-7dd4-4f38-c6e3-932c9b34d9cb"
      },
      "outputs": [
        {
          "data": {
            "text/plain": [
              "(49, 6)"
            ]
          },
          "execution_count": 47,
          "metadata": {},
          "output_type": "execute_result"
        }
      ],
      "source": [
        "df.shape"
      ]
    },
    {
      "cell_type": "markdown",
      "metadata": {
        "id": "euwsyE6VSK1R"
      },
      "source": [
        "# feature engineering"
      ]
    },
    {
      "cell_type": "code",
      "execution_count": 49,
      "metadata": {
        "colab": {
          "base_uri": "https://localhost:8080/"
        },
        "id": "lgCxBAxbSO7j",
        "outputId": "9833c29b-d755-496e-976a-130ce5118632"
      },
      "outputs": [
        {
          "data": {
            "text/plain": [
              "(100, 3)"
            ]
          },
          "execution_count": 49,
          "metadata": {},
          "output_type": "execute_result"
        }
      ],
      "source": [
        "t=pd.read_csv('tech_layoffs.csv')\n",
        "t.shape"
      ]
    }
  ],
  "metadata": {
    "colab": {
      "provenance": []
    },
    "kernelspec": {
      "display_name": "base",
      "language": "python",
      "name": "python3"
    },
    "language_info": {
      "codemirror_mode": {
        "name": "ipython",
        "version": 3
      },
      "file_extension": ".py",
      "mimetype": "text/x-python",
      "name": "python",
      "nbconvert_exporter": "python",
      "pygments_lexer": "ipython3",
      "version": "3.13.5"
    }
  },
  "nbformat": 4,
  "nbformat_minor": 0
}
